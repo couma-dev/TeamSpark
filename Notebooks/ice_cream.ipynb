{
 "cells": [
  {
   "cell_type": "code",
   "execution_count": 3,
   "id": "e7fe3030-cb58-4f62-aa44-ada8270f2aef",
   "metadata": {},
   "outputs": [],
   "source": [
    "import pandas as pd\n",
    "import requests\n",
    "import json\n",
    "from pandas import json_normalize\n",
    "from pprint import pprint"
   ]
  },
  {
   "cell_type": "code",
   "execution_count": 2,
   "id": "7dc90679-241b-4033-9704-a040c8b320d4",
   "metadata": {},
   "outputs": [],
   "source": []
  },
  {
   "cell_type": "code",
   "execution_count": null,
   "id": "5a0e5f8e-8ebc-42ed-9b88-1df492375ea2",
   "metadata": {},
   "outputs": [],
   "source": [
    "gsaf_df = pd.read_csv(\"Location Counts.csv\")"
   ]
  },
  {
   "cell_type": "code",
   "execution_count": null,
   "id": "3215c183-b164-4273-990e-8ef2ba35a592",
   "metadata": {},
   "outputs": [],
   "source": [
    "gsaf_df.head()"
   ]
  },
  {
   "cell_type": "code",
   "execution_count": null,
   "id": "d359b177-a297-4b18-8d54-5c5647d8383a",
   "metadata": {},
   "outputs": [],
   "source": [
    "base_url = \"https://maps.googleapis.com/maps/api/geocode/json\"\n",
    "lat = []\n",
    "lng = []\n",
    "location = []\n",
    "attack = []\n",
    "for i in range(len(gsaf_df)):\n",
    "    try:\n",
    "        target_city = gsaf_df[\"index\"][i]\n",
    "        params = {\"address\": target_city, \"key\": gkey}\n",
    "        response = requests.get(base_url, params=params)\n",
    "        # Convert to JSON\n",
    "        shark_geo = response.json()\n",
    "        # Extract lat/lng\n",
    "        lat.append(shark_geo[\"results\"][0][\"geometry\"][\"location\"][\"lat\"])\n",
    "        lng.append(shark_geo[\"results\"][0][\"geometry\"][\"location\"][\"lng\"])\n",
    "        location.append(gsaf_df[\"index\"][i])\n",
    "        attack.append(gsaf_df[\"Location\"][i])\n",
    "    except IndexError:\n",
    "        continue"
   ]
  },
  {
   "cell_type": "code",
   "execution_count": null,
   "id": "37e3703e-8495-4284-8151-c88beba9e62b",
   "metadata": {},
   "outputs": [],
   "source": [
    "print(location[0])"
   ]
  },
  {
   "cell_type": "code",
   "execution_count": null,
   "id": "20ebfe6f-4b1a-4183-8cd4-816bdd4e8375",
   "metadata": {},
   "outputs": [],
   "source": [
    "coordinates = []\n",
    "for x in range(len(lat)):\n",
    "    coordinates.append(str(lat[x])+ \", \"+ str(lng[x]))\n",
    "print(coordinates[0])"
   ]
  },
  {
   "cell_type": "code",
   "execution_count": null,
   "id": "7e4e1fbf-49d2-4c54-bee5-3c3382efeb02",
   "metadata": {},
   "outputs": [],
   "source": [
    "# Set up parameters \n",
    "target_search = \"ice cream shops\"\n",
    "target_radius = 6000\n",
    "# base url\n",
    "base_url = \"https://maps.googleapis.com/maps/api/place/nearbysearch/json\"\n",
    "\n",
    "count_ice_cream =[]\n",
    "\n",
    "for x in range(len(location)):\n",
    "    target_coordinates = coordinates[x]\n",
    "    params = {\n",
    "        \"location\": target_coordinates, \n",
    "        \"keyword\": target_search, \n",
    "        \"radius\": target_radius,\n",
    "        \"key\": gkey}\n",
    "    ice_cream_content = requests.get(base_url, params=params).json()\n",
    "    nearby_ice_df = json_normalize(ice_cream_content['results'][0:15])\n",
    "    #Get the number of ice cream shops within 6000ft\n",
    "    count_ice_cream.append(len(nearby_ice_df))"
   ]
  },
  {
   "cell_type": "code",
   "execution_count": null,
   "id": "713cec39-870a-4d43-8fec-334c8c2ccad9",
   "metadata": {},
   "outputs": [],
   "source": [
    "ice_cream_df = pd.DataFrame({'location' : location,\n",
    "                             'Number of Attacks' : attack,\n",
    "                             'Latitude' : lat,\n",
    "                             'Longitude' : lng,\n",
    "                             'Ice Cream Stores in a Mile' : count_ice_cream})"
   ]
  },
  {
   "cell_type": "code",
   "execution_count": null,
   "id": "948ef432-9640-4c3e-a740-0826377d20b4",
   "metadata": {},
   "outputs": [],
   "source": [
    "ice_cream_df.tail()"
   ]
  },
  {
   "cell_type": "code",
   "execution_count": null,
   "id": "302802d3-4ff5-4ae1-a592-055e05b42d4c",
   "metadata": {},
   "outputs": [],
   "source": [
    "ice_cream_df.to_csv(\"ice_cream.csv\", index=False)"
   ]
  },
  {
   "cell_type": "code",
   "execution_count": 4,
   "id": "c30c20c0-c970-4924-8aee-1d418165199e",
   "metadata": {},
   "outputs": [],
   "source": [
    "# We decided to add this after the other csv was already created. \n",
    "# So rather than calling the api again we decided to read in the csv\n",
    "weather_df = pd.read_csv(\"ice_cream.csv\")"
   ]
  },
  {
   "cell_type": "code",
   "execution_count": 5,
   "id": "a8b9d3c5-ebaf-42f8-95ae-e4cd2f3c2372",
   "metadata": {},
   "outputs": [
    {
     "data": {
      "text/html": [
       "<div>\n",
       "<style scoped>\n",
       "    .dataframe tbody tr th:only-of-type {\n",
       "        vertical-align: middle;\n",
       "    }\n",
       "\n",
       "    .dataframe tbody tr th {\n",
       "        vertical-align: top;\n",
       "    }\n",
       "\n",
       "    .dataframe thead th {\n",
       "        text-align: right;\n",
       "    }\n",
       "</style>\n",
       "<table border=\"1\" class=\"dataframe\">\n",
       "  <thead>\n",
       "    <tr style=\"text-align: right;\">\n",
       "      <th></th>\n",
       "      <th>location</th>\n",
       "      <th>Number of Attacks</th>\n",
       "      <th>Latitude</th>\n",
       "      <th>Longitude</th>\n",
       "      <th>Ice Cream Stores in a Mile</th>\n",
       "    </tr>\n",
       "  </thead>\n",
       "  <tbody>\n",
       "    <tr>\n",
       "      <th>0</th>\n",
       "      <td>New Smyrna Beach, Volusia County</td>\n",
       "      <td>64</td>\n",
       "      <td>29.025819</td>\n",
       "      <td>-80.926998</td>\n",
       "      <td>15</td>\n",
       "    </tr>\n",
       "    <tr>\n",
       "      <th>1</th>\n",
       "      <td>Cocoa Beach, Brevard  County</td>\n",
       "      <td>14</td>\n",
       "      <td>28.320007</td>\n",
       "      <td>-80.607551</td>\n",
       "      <td>12</td>\n",
       "    </tr>\n",
       "    <tr>\n",
       "      <th>2</th>\n",
       "      <td>Melbourne Beach, Brevard County</td>\n",
       "      <td>12</td>\n",
       "      <td>28.068350</td>\n",
       "      <td>-80.560330</td>\n",
       "      <td>11</td>\n",
       "    </tr>\n",
       "    <tr>\n",
       "      <th>3</th>\n",
       "      <td>Ponce Inlet, Volusia County</td>\n",
       "      <td>10</td>\n",
       "      <td>29.096373</td>\n",
       "      <td>-80.936998</td>\n",
       "      <td>5</td>\n",
       "    </tr>\n",
       "    <tr>\n",
       "      <th>4</th>\n",
       "      <td>Myrtle Beach, Horry County</td>\n",
       "      <td>8</td>\n",
       "      <td>33.689060</td>\n",
       "      <td>-78.886694</td>\n",
       "      <td>15</td>\n",
       "    </tr>\n",
       "  </tbody>\n",
       "</table>\n",
       "</div>"
      ],
      "text/plain": [
       "                           location  Number of Attacks   Latitude  Longitude  \\\n",
       "0  New Smyrna Beach, Volusia County                 64  29.025819 -80.926998   \n",
       "1      Cocoa Beach, Brevard  County                 14  28.320007 -80.607551   \n",
       "2   Melbourne Beach, Brevard County                 12  28.068350 -80.560330   \n",
       "3       Ponce Inlet, Volusia County                 10  29.096373 -80.936998   \n",
       "4        Myrtle Beach, Horry County                  8  33.689060 -78.886694   \n",
       "\n",
       "   Ice Cream Stores in a Mile  \n",
       "0                          15  \n",
       "1                          12  \n",
       "2                          11  \n",
       "3                           5  \n",
       "4                          15  "
      ]
     },
     "execution_count": 5,
     "metadata": {},
     "output_type": "execute_result"
    }
   ],
   "source": [
    "weather_df.head()"
   ]
  },
  {
   "cell_type": "code",
   "execution_count": 6,
   "id": "375aadfb-5d05-44dd-9134-b4787977ba90",
   "metadata": {},
   "outputs": [],
   "source": [
    "api_key = \"f50a1b71335ebb06c331a86d1fd9e95f\"\n",
    "units = \"imperial\""
   ]
  },
  {
   "cell_type": "code",
   "execution_count": 7,
   "id": "0ece368a-c155-4403-a3ee-f58f164ce953",
   "metadata": {},
   "outputs": [],
   "source": [
    "url = \"http://api.openweathermap.org/data/2.5/weather?\""
   ]
  },
  {
   "cell_type": "code",
   "execution_count": 8,
   "id": "abed54b6-de57-430b-bb38-4eb7086c76ea",
   "metadata": {},
   "outputs": [],
   "source": [
    "temp = []\n",
    "for i in range(len(weather_df)):\n",
    "    lat = weather_df[\"Latitude\"][i]\n",
    "    lng = weather_df[\"Longitude\"][i]\n",
    "    query_url = f\"{url}lat={lat}&lon={lng}&units={units}&appid={api_key}\"\n",
    "    response = requests.get(query_url).json()\n",
    "    temp.append(response['main']['temp'])"
   ]
  },
  {
   "cell_type": "code",
   "execution_count": 9,
   "id": "60e08824-2ce0-4722-b30c-2296db28dc61",
   "metadata": {},
   "outputs": [],
   "source": [
    "weather_df[\"Temperature in Farenheit\"] = temp"
   ]
  },
  {
   "cell_type": "code",
   "execution_count": 10,
   "id": "e652074f-33b6-4eb3-adbe-41e71fcb042a",
   "metadata": {},
   "outputs": [
    {
     "data": {
      "text/html": [
       "<div>\n",
       "<style scoped>\n",
       "    .dataframe tbody tr th:only-of-type {\n",
       "        vertical-align: middle;\n",
       "    }\n",
       "\n",
       "    .dataframe tbody tr th {\n",
       "        vertical-align: top;\n",
       "    }\n",
       "\n",
       "    .dataframe thead th {\n",
       "        text-align: right;\n",
       "    }\n",
       "</style>\n",
       "<table border=\"1\" class=\"dataframe\">\n",
       "  <thead>\n",
       "    <tr style=\"text-align: right;\">\n",
       "      <th></th>\n",
       "      <th>location</th>\n",
       "      <th>Number of Attacks</th>\n",
       "      <th>Latitude</th>\n",
       "      <th>Longitude</th>\n",
       "      <th>Ice Cream Stores in a Mile</th>\n",
       "      <th>Temperature in Farenheit</th>\n",
       "    </tr>\n",
       "  </thead>\n",
       "  <tbody>\n",
       "    <tr>\n",
       "      <th>0</th>\n",
       "      <td>New Smyrna Beach, Volusia County</td>\n",
       "      <td>64</td>\n",
       "      <td>29.025819</td>\n",
       "      <td>-80.926998</td>\n",
       "      <td>15</td>\n",
       "      <td>81.45</td>\n",
       "    </tr>\n",
       "    <tr>\n",
       "      <th>1</th>\n",
       "      <td>Cocoa Beach, Brevard  County</td>\n",
       "      <td>14</td>\n",
       "      <td>28.320007</td>\n",
       "      <td>-80.607551</td>\n",
       "      <td>12</td>\n",
       "      <td>80.02</td>\n",
       "    </tr>\n",
       "    <tr>\n",
       "      <th>2</th>\n",
       "      <td>Melbourne Beach, Brevard County</td>\n",
       "      <td>12</td>\n",
       "      <td>28.068350</td>\n",
       "      <td>-80.560330</td>\n",
       "      <td>11</td>\n",
       "      <td>80.53</td>\n",
       "    </tr>\n",
       "    <tr>\n",
       "      <th>3</th>\n",
       "      <td>Ponce Inlet, Volusia County</td>\n",
       "      <td>10</td>\n",
       "      <td>29.096373</td>\n",
       "      <td>-80.936998</td>\n",
       "      <td>5</td>\n",
       "      <td>81.61</td>\n",
       "    </tr>\n",
       "    <tr>\n",
       "      <th>4</th>\n",
       "      <td>Myrtle Beach, Horry County</td>\n",
       "      <td>8</td>\n",
       "      <td>33.689060</td>\n",
       "      <td>-78.886694</td>\n",
       "      <td>15</td>\n",
       "      <td>73.92</td>\n",
       "    </tr>\n",
       "  </tbody>\n",
       "</table>\n",
       "</div>"
      ],
      "text/plain": [
       "                           location  Number of Attacks   Latitude  Longitude  \\\n",
       "0  New Smyrna Beach, Volusia County                 64  29.025819 -80.926998   \n",
       "1      Cocoa Beach, Brevard  County                 14  28.320007 -80.607551   \n",
       "2   Melbourne Beach, Brevard County                 12  28.068350 -80.560330   \n",
       "3       Ponce Inlet, Volusia County                 10  29.096373 -80.936998   \n",
       "4        Myrtle Beach, Horry County                  8  33.689060 -78.886694   \n",
       "\n",
       "   Ice Cream Stores in a Mile  Temperature in Farenheit  \n",
       "0                          15                     81.45  \n",
       "1                          12                     80.02  \n",
       "2                          11                     80.53  \n",
       "3                           5                     81.61  \n",
       "4                          15                     73.92  "
      ]
     },
     "execution_count": 10,
     "metadata": {},
     "output_type": "execute_result"
    }
   ],
   "source": [
    "weather_df.head()"
   ]
  },
  {
   "cell_type": "code",
   "execution_count": 11,
   "id": "0b4d2d1d-7171-4988-960e-cca0593f7827",
   "metadata": {},
   "outputs": [],
   "source": [
    "weather_df.to_csv(\"weather_df.csv\", index=False)"
   ]
  },
  {
   "cell_type": "code",
   "execution_count": null,
   "id": "f2dda754-a232-4098-a896-cf9604e11625",
   "metadata": {},
   "outputs": [],
   "source": []
  }
 ],
 "metadata": {
  "kernelspec": {
   "display_name": "Python 3",
   "language": "python",
   "name": "python3"
  },
  "language_info": {
   "codemirror_mode": {
    "name": "ipython",
    "version": 3
   },
   "file_extension": ".py",
   "mimetype": "text/x-python",
   "name": "python",
   "nbconvert_exporter": "python",
   "pygments_lexer": "ipython3",
   "version": "3.8.8"
  }
 },
 "nbformat": 4,
 "nbformat_minor": 5
}
